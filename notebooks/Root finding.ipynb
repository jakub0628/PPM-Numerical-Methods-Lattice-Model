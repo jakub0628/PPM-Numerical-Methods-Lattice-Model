{
 "cells": [
  {
   "cell_type": "markdown",
   "metadata": {},
   "source": [
    "- Student 1 Name: Jakub Domanski\n",
    "- Student 2 Name: Emre Durmus\n",
    "- Student 3 Name: Jakub Kwasniak\n",
    "\n",
    "change the name of this notebook to  `name_1_name_2_notebook_??.ipynb` with *no spaces, no accents and no strange characters!* and where `??` stands for the number of the notebook you are working on."
   ]
  },
  {
   "cell_type": "markdown",
   "metadata": {},
   "source": [
    "# PPM Numerical Methods -- Numerical Methods for Physics"
   ]
  },
  {
   "cell_type": "markdown",
   "metadata": {},
   "source": [
    "# Numerical methods: Root finding"
   ]
  },
  {
   "cell_type": "markdown",
   "metadata": {},
   "source": [
    "# Root finding"
   ]
  },
  {
   "cell_type": "markdown",
   "metadata": {},
   "source": [
    "## Bisection method"
   ]
  },
  {
   "cell_type": "markdown",
   "metadata": {},
   "source": [
    "Use the bisection method to find the root of the function\n",
    "    $$ f(x) = \\frac{1}{2} - e^{-x}$$\n",
    "think carefully how to estimate the error to end the calculation. "
   ]
  },
  {
   "cell_type": "code",
   "execution_count": 1,
   "metadata": {},
   "outputs": [],
   "source": [
    "import numpy as np\n",
    "import matplotlib.pyplot as plt\n",
    "from scipy import optimize\n",
    "%matplotlib inline\n",
    "import timeit"
   ]
  },
  {
   "cell_type": "code",
   "execution_count": 2,
   "metadata": {},
   "outputs": [],
   "source": [
    "def f(x: float) -> float:\n",
    "    \"\"\"Test function whose zeroes are to be found using various root-finding methods.\n",
    "    \n",
    "    Parameters:\n",
    "    x -- argument of the function\n",
    "    Return:\n",
    "    f(x) -- value of the function at x\"\"\"\n",
    "    \n",
    "    return 1/2 - np.exp(-x)"
   ]
  },
  {
   "cell_type": "code",
   "execution_count": 3,
   "metadata": {},
   "outputs": [
    {
     "name": "stdout",
     "output_type": "stream",
     "text": [
      "Root of f(x): 0.6931471805599453, initial guess [0,2], 53 iterations, difference -1.1102230246251565e-16\n"
     ]
    }
   ],
   "source": [
    "def bisection(a: float, b: float, count:int) -> float:\n",
    "    \"\"\"Find roots of a function using the bisection method.\n",
    "    \n",
    "    Parameters:\n",
    "    a -- left bound of the initial interval\n",
    "    b -- right bound of the initial interval\n",
    "    count -- maximum number of iterations\n",
    "    \n",
    "    Return:\n",
    "    midpoint -- approximate root of the function\n",
    "    n -- necessary number of iterations\"\"\"\n",
    "    \n",
    "    # Set a counter variable\n",
    "    n = 0\n",
    "    # While the product of the functions at interval points is negative\n",
    "    # -> Crosses the x-axis\n",
    "    while f(a) * f(b) < 0 and n < count:\n",
    "        # Calculate the midpoint of the interval\n",
    "        midpoint = (a+b)/2\n",
    "        # Check the left interval\n",
    "        if f(a) * f(midpoint) < 0:\n",
    "            b = midpoint\n",
    "            n += 1\n",
    "        # Check the right interval\n",
    "        elif f(midpoint) * f(b) < 0: \n",
    "            a = midpoint\n",
    "            n += 1\n",
    "        # Else if the product is zero -> root found\n",
    "        else: \n",
    "            return midpoint, n\n",
    "\n",
    "# Initial interval\n",
    "a, b = 0, 2\n",
    "\n",
    "# Use the algorithm\n",
    "root, n = bisection(a, b, 100)\n",
    "# Compare to scipy's functionality\n",
    "sol = optimize.root(f, a)\n",
    "\n",
    "print(f\"Root of f(x): {root}, initial guess [{a},{b}], {n} iterations, difference {root-sol.x[0]}\")"
   ]
  },
  {
   "cell_type": "markdown",
   "metadata": {},
   "source": [
    "## False-position method"
   ]
  },
  {
   "cell_type": "markdown",
   "metadata": {},
   "source": [
    "Use the false position method to find the root of the function\n",
    "    $$ f(x) = \\frac{1}{2} - e^{-x}$$\n",
    "and compare to the bisection method"
   ]
  },
  {
   "cell_type": "code",
   "execution_count": 4,
   "metadata": {},
   "outputs": [
    {
     "name": "stdout",
     "output_type": "stream",
     "text": [
      "Root of f(x): 0.6931471805599453, initial guess [0,2], 32 iterations, difference -1.1102230246251565e-16\n"
     ]
    }
   ],
   "source": [
    "def false_pos(a: float, b: float, count: int) -> float:\n",
    "    \"\"\"Find roots of a function using the false-position method.\n",
    "    \n",
    "    Parameters:\n",
    "    a -- left bound of the initial interval\n",
    "    b -- right bound of the initial interval\n",
    "    count -- maximum number of iterations\n",
    "    \n",
    "    Return:\n",
    "    midpoint -- approximate root of the function\n",
    "    n -- necessary number of iterations\"\"\"\n",
    "\n",
    "    # Set a counter variable\n",
    "    n = 0\n",
    "    # While the product of the functions at interval points is negative\n",
    "    while f(a) * f(b) < 0 and n < count:\n",
    "        x_r = b - (f(b) * (a - b))/(f(a) - f(b))\n",
    "        # Check the left interval\n",
    "        if f(a) * f(x_r) < 0:\n",
    "            b = x_r\n",
    "            n += 1\n",
    "        # Check the right interval\n",
    "        elif f(x_r) * f(b) < 0:\n",
    "            a = x_r\n",
    "            n += 1\n",
    "        # Else if the product is zero -> root found\n",
    "        else: \n",
    "            break\n",
    "    return x_r, n\n",
    "\n",
    "# Initial interval\n",
    "a, b = 0, 2\n",
    "\n",
    "# Use the algorithm\n",
    "root, n = false_pos(a, b, 100)\n",
    "# Compare to scipy's functionality\n",
    "sol = optimize.root(f, a)\n",
    "\n",
    "print(f\"Root of f(x): {root}, initial guess [{a},{b}], {n} iterations, difference {root-sol.x[0]}\")"
   ]
  },
  {
   "cell_type": "markdown",
   "metadata": {},
   "source": [
    "## The Newton-Raphson Method"
   ]
  },
  {
   "cell_type": "markdown",
   "metadata": {},
   "source": [
    "Implement the Newton-Rapshon method to solve \n",
    "$$ f(x) = \\frac{1}{2} - e^{-x}$$\n",
    "and compare to the bisection and false position methods\n",
    "\n",
    "- Try different starting guess values, e.g. -1, 1, 5 and 30\n",
    "- Comment"
   ]
  },
  {
   "cell_type": "code",
   "execution_count": 5,
   "metadata": {},
   "outputs": [
    {
     "name": "stdout",
     "output_type": "stream",
     "text": [
      "Root of f(x): 0.6931471805599453, initial guess -1, 8 iterations, difference -1.1102230246251565e-16\n",
      "Root of f(x): 0.6931471805599453, initial guess 1, 5 iterations, difference 0.0\n",
      "Root of f(x): 0.6931471805599453, initial guess 5, 7 iterations, difference -4.306852819440055\n",
      "Root of f(x): 0.6931471805599453, initial guess 30, 8 iterations, difference -29.306852819440056\n"
     ]
    },
    {
     "name": "stderr",
     "output_type": "stream",
     "text": [
      "C:\\Users\\okwas\\AppData\\Local\\Temp\\ipykernel_2116\\344986575.py:9: RuntimeWarning: overflow encountered in exp\n",
      "  return 1/2 - np.exp(-x)\n"
     ]
    }
   ],
   "source": [
    "def newton_raphson(x: float, count: int) -> float:\n",
    "    \"\"\"Find roots of a function using the Newton-Raphson method.\n",
    "\n",
    "    Parameters:\n",
    "    x -- initial guess\n",
    "    count -- maximum number of iterations\n",
    "\n",
    "    Returns:\n",
    "    x -- root of the function\n",
    "    n -- necessary number of iterations\n",
    "    \"\"\"\n",
    "    \n",
    "    # Introduce a counter\n",
    "    n = 0\n",
    "    \n",
    "    # Initialise the analytical derivative\n",
    "    df = lambda x: np.exp(-x)\n",
    "    \n",
    "    while f(x) != 0 and n < count:\n",
    "        # Introduce the alpha parameter for backtracking\n",
    "        alpha = 1\n",
    "        # Include backtracking; while the new guess increases the magnitude of the function, decrease delta_x by alpha\n",
    "        while abs(f(x - alpha * f(x)/df(x))) > abs(f(x)):\n",
    "            alpha /= 2\n",
    "        x -= alpha * f(x)/df(x)\n",
    "        n += 1\n",
    "    return x, n\n",
    "\n",
    "# Initial guess\n",
    "x = [-1, 1, 5, 30]\n",
    "\n",
    "for i in x:\n",
    "    # Use the algorithm\n",
    "    root, n = newton_raphson(i, 100)\n",
    "    # Compare to scipy's functionality\n",
    "    sol = optimize.root(f, i)\n",
    "    \n",
    "    print(f\"Root of f(x): {root}, initial guess {i}, {n} iterations, difference {root - sol.x[0]}\")"
   ]
  },
  {
   "cell_type": "markdown",
   "metadata": {},
   "source": [
    "## The Secant Method"
   ]
  },
  {
   "cell_type": "markdown",
   "metadata": {},
   "source": [
    "Implement the Newton-Rapshon method to solve \n",
    "$$ f(x) = \\frac{1}{2} - e^{-x}$$\n",
    "and compare to the bisection and false position methods\n",
    "\n",
    "- Try different starting guess values, e.g. -1, 1, 5 and 30\n",
    "- Comment"
   ]
  },
  {
   "cell_type": "code",
   "execution_count": 6,
   "metadata": {},
   "outputs": [
    {
     "name": "stdout",
     "output_type": "stream",
     "text": [
      "Root of f(x): 0.6931471805599453, initial guess (0,2), 8 iterations, difference -1.1102230246251565e-16\n"
     ]
    }
   ],
   "source": [
    "def secant(x_f: float, x_b: float, count: int) -> float:\n",
    "    \"\"\"Find roots of a function using the secant method.\n",
    "\n",
    "    Parameters:\n",
    "    x_f -- upper initial guess\n",
    "    x_b -- lower initial guess\n",
    "    count -- maximum number of iterations\n",
    "\n",
    "    Returns:\n",
    "    x_f -- root of the function\n",
    "    n -- necessary number of iterations\n",
    "    \"\"\"\n",
    "    \n",
    "    # Set a counter variable\n",
    "    n = 0\n",
    "    # Calculate the derivative numerically\n",
    "    while f(x_f) != 0 and n < count:\n",
    "        # Introduce the alpha parameter for backtracking\n",
    "        alpha = 1\n",
    "        df = f(x_f) * (x_b-x_f)/(f(x_b) - f(x_f))\n",
    "        # Include backtracking; while the new guess increases the magnitude of the function, decrease delta_x by alpha\n",
    "        while abs(f(x_f - alpha * df)) > abs(f(x_f)):\n",
    "            alpha /= 2\n",
    "        x_b, x_f = x_f, x_f - alpha * df\n",
    "        n += 1\n",
    "    return x_f, n\n",
    "    \n",
    "# Initial guess\n",
    "a, b = 0, 2\n",
    "\n",
    "# Use the algorithm\n",
    "root, n = secant(a, b, 100)\n",
    "\n",
    "# Compare to scipy's functionality\n",
    "sol = optimize.root(f, a)\n",
    "    \n",
    "print(f\"Root of f(x): {root}, initial guess ({a},{b}), {n} iterations, difference {root - sol.x[0]}\")"
   ]
  },
  {
   "cell_type": "markdown",
   "metadata": {},
   "source": [
    "## The Modified Secant Method"
   ]
  },
  {
   "cell_type": "markdown",
   "metadata": {},
   "source": [
    "Implement the modified secant method and compare it to the other methods."
   ]
  },
  {
   "cell_type": "code",
   "execution_count": 36,
   "metadata": {},
   "outputs": [
    {
     "name": "stdout",
     "output_type": "stream",
     "text": [
      "Root of f(x): 0.6931471805599453, initial guess -1, 8 iterations, difference -1.1102230246251565e-16\n",
      "Root of f(x): 0.6931471805599453, initial guess 1, 7 iterations, difference 0.0\n",
      "Root of f(x): 0.6931471805599453, initial guess 5, 7 iterations, difference -4.306852819440055\n",
      "Root of f(x): 0.6931471805599453, initial guess 30, 9 iterations, difference -29.306852819440056\n"
     ]
    },
    {
     "name": "stderr",
     "output_type": "stream",
     "text": [
      "C:\\Users\\okwas\\AppData\\Local\\Temp\\ipykernel_6088\\344986575.py:9: RuntimeWarning: overflow encountered in exp\n",
      "  return 1/2 - np.exp(-x)\n"
     ]
    }
   ],
   "source": [
    "def mod_secant(x: float, count: int, delta=1e-3) -> float:\n",
    "    \"\"\"Find roots of a function using the modified secant method.\n",
    "\n",
    "    Parameters:\n",
    "    x -- initial guess\n",
    "    count -- maximum number of iterations\n",
    "    delta -- small perturbation\n",
    "\n",
    "    Returns:\n",
    "    x-- root of the function\n",
    "    n -- necessary number of iterations\n",
    "    \"\"\"\n",
    "    \n",
    "    # Set a counter variable\n",
    "    n = 0\n",
    "    # Calculate the derivative numerically\n",
    "    while f(x) != 0 and n < count:\n",
    "        # Introduce the alpha parameter for backtracking\n",
    "        alpha = 1\n",
    "        df = delta * f(x)/(f(x + delta) - f(x))\n",
    "        # Include backtracking; while the new guess increases the magnitude of the function, decrease delta_x by alpha\n",
    "        while abs(f(x - alpha * df)) > abs(f(x)):\n",
    "            alpha /= 2\n",
    "        x -= alpha * df\n",
    "        n += 1\n",
    "    return x, n\n",
    "    \n",
    "# Initial guess\n",
    "x = [-1, 1, 5, 30]\n",
    "\n",
    "for i in x:\n",
    "    # Use the algorithm\n",
    "    root, n = mod_secant(i, 100)\n",
    "    # Compare to scipy's functionality\n",
    "    sol = optimize.root(f, i)\n",
    "    \n",
    "    print(f\"Root of f(x): {root}, initial guess {i}, {n} iterations, difference {root - sol.x[0]}\")"
   ]
  },
  {
   "cell_type": "code",
   "execution_count": 37,
   "metadata": {},
   "outputs": [
    {
     "name": "stdout",
     "output_type": "stream",
     "text": [
      "936 μs ± 11.3 μs per loop (mean ± std. dev. of 7 runs, 1,000 loops each)\n"
     ]
    }
   ],
   "source": [
    "# Time comparison of different algorithms\n",
    "%timeit bisection(0, 2, 100)"
   ]
  },
  {
   "cell_type": "code",
   "execution_count": 38,
   "metadata": {},
   "outputs": [
    {
     "name": "stdout",
     "output_type": "stream",
     "text": [
      "887 μs ± 24.4 μs per loop (mean ± std. dev. of 7 runs, 1,000 loops each)\n"
     ]
    }
   ],
   "source": [
    "%timeit false_pos(0, 2, 100)"
   ]
  },
  {
   "cell_type": "code",
   "execution_count": 39,
   "metadata": {},
   "outputs": [
    {
     "name": "stdout",
     "output_type": "stream",
     "text": [
      "130 μs ± 2.22 μs per loop (mean ± std. dev. of 7 runs, 10,000 loops each)\n"
     ]
    }
   ],
   "source": [
    "%timeit newton_raphson(0, 100)"
   ]
  },
  {
   "cell_type": "code",
   "execution_count": 40,
   "metadata": {},
   "outputs": [
    {
     "name": "stdout",
     "output_type": "stream",
     "text": [
      "183 μs ± 1.1 μs per loop (mean ± std. dev. of 7 runs, 10,000 loops each)\n"
     ]
    }
   ],
   "source": [
    "%timeit secant(0, 2, 100)"
   ]
  },
  {
   "cell_type": "code",
   "execution_count": 41,
   "metadata": {},
   "outputs": [
    {
     "name": "stdout",
     "output_type": "stream",
     "text": [
      "156 μs ± 1.43 μs per loop (mean ± std. dev. of 7 runs, 10,000 loops each)\n"
     ]
    }
   ],
   "source": [
    "%timeit mod_secant(0, 100)"
   ]
  },
  {
   "cell_type": "markdown",
   "metadata": {},
   "source": [
    "According to the timeit function, the comparison of the various discussed algorithms yielded a result of the Newton-Raphson method being the fastest one, closely followed by the (modified) secant methods. On the other hand, the bisection and false-positive methods yielded a significantly longer time of computation for the same initial parameters, which indicates their weaknesses, due to them being brute force methods."
   ]
  },
  {
   "cell_type": "markdown",
   "metadata": {},
   "source": [
    "In each algorithm, the root of $f(x)$ calculated by the function is displayed for a given set of initial guesses, alongside the number of iterations necessary to reach the zero within machine precision. Moreover, the difference between the value of the function's zero and the zero calculated numerically using SciPy's functionality through a modified Powell's method is outputted, to compare the accuracy of the methods. Note however that for certain guesses far away from the actual zero of the function, SciPy's algorithm displays abnormal results, which could point to its inapplicability for such guesses and generally, a different premise for the algorithm. In our cases, by e.g. introducing backtracking, we eliminate the possibility of the answer diverging from the zero of the function."
   ]
  },
  {
   "cell_type": "code",
   "execution_count": null,
   "metadata": {},
   "outputs": [],
   "source": []
  }
 ],
 "metadata": {
  "kernelspec": {
   "display_name": "Python 3 (ipykernel)",
   "language": "python",
   "name": "python3"
  },
  "language_info": {
   "codemirror_mode": {
    "name": "ipython",
    "version": 3
   },
   "file_extension": ".py",
   "mimetype": "text/x-python",
   "name": "python",
   "nbconvert_exporter": "python",
   "pygments_lexer": "ipython3",
   "version": "3.11.5"
  }
 },
 "nbformat": 4,
 "nbformat_minor": 4
}
